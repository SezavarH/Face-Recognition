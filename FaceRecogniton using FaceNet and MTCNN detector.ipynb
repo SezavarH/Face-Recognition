{
 "cells": [
  {
   "cell_type": "code",
   "execution_count": null,
   "metadata": {},
   "outputs": [],
   "source": [
    "# Author: AhmadReza Sezavar"
   ]
  },
  {
   "cell_type": "code",
   "execution_count": null,
   "metadata": {
    "id": "VhscaNvBtc6u"
   },
   "outputs": [],
   "source": [
    "!pip install mtcnn\n",
    "!pip install h5py==2.10.0"
   ]
  },
  {
   "cell_type": "code",
   "execution_count": null,
   "metadata": {
    "id": "UATPKwuBxTL2"
   },
   "outputs": [],
   "source": [
    "!pip uninstall keras -y\n",
    "!pip uninstall keras-nightly -y\n",
    "!pip uninstall keras-Preprocessing -y\n",
    "!pip uninstall keras-vis -y\n",
    "!pip uninstall tensorflow -y\n",
    "\n",
    "!pip install tensorflow==2.3.0\n",
    "!pip install keras==2.4"
   ]
  },
  {
   "cell_type": "code",
   "execution_count": 22,
   "metadata": {
    "colab": {
     "base_uri": "https://localhost:8080/"
    },
    "id": "bNd60MPivIMr",
    "outputId": "25d66802-d219-4c80-9faf-e1e8da180969"
   },
   "outputs": [
    {
     "name": "stdout",
     "output_type": "stream",
     "text": [
      "WARNING:tensorflow:No training configuration found in the save file, so the model was *not* compiled. Compile it manually.\n"
     ]
    }
   ],
   "source": [
    "import os\n",
    "import sys\n",
    "import pickle\n",
    "import numpy as np\n",
    "import matplotlib.pyplot as plt\n",
    "from scipy.spatial.distance import cosine\n",
    "import cv2\n",
    "import mtcnn\n",
    "from keras.models import load_model\n",
    "sys.path.append('..')\n",
    "from utils import get_face, l2_normalizer, normalize, save_pickle, plt_show, get_encode\n",
    "\n",
    "encoder_model = 'data/model/facenet_keras.h5'\n",
    "people_dir = 'data/people'\n",
    "encodings_path = 'data/encodings/encodings.pkl'\n",
    "test_img_path = 'data/test/test.jpg'\n",
    "test_res_path = 'data/test/test.jpg'\n",
    "\n",
    "recognition_t = 0.3\n",
    "required_size = (160, 160)\n",
    "encoding_dict = dict()\n",
    "\n",
    "\n",
    "face_detector = mtcnn.MTCNN()\n",
    "face_encoder = load_model(encoder_model)"
   ]
  },
  {
   "cell_type": "code",
   "execution_count": 23,
   "metadata": {
    "colab": {
     "base_uri": "https://localhost:8080/"
    },
    "id": "M70UGqF-vXHZ",
    "outputId": "cf79c021-eed3-45fd-fae6-bf059dc9169d"
   },
   "outputs": [
    {
     "name": "stdout",
     "output_type": "stream",
     "text": [
      "WARNING:tensorflow:5 out of the last 280 calls to <function Model.make_predict_function.<locals>.predict_function at 0x7f942ebec950> triggered tf.function retracing. Tracing is expensive and the excessive number of tracings could be due to (1) creating @tf.function repeatedly in a loop, (2) passing tensors with different shapes, (3) passing Python objects instead of tensors. For (1), please define your @tf.function outside of the loop. For (2), @tf.function has experimental_relax_shapes=True option that relaxes argument shapes that can avoid unnecessary retracing. For (3), please refer to https://www.tensorflow.org/tutorials/customization/performance#python_or_tensor_args and https://www.tensorflow.org/api_docs/python/tf/function for  more details.\n",
      "WARNING:tensorflow:6 out of the last 281 calls to <function Model.make_predict_function.<locals>.predict_function at 0x7f942eac13b0> triggered tf.function retracing. Tracing is expensive and the excessive number of tracings could be due to (1) creating @tf.function repeatedly in a loop, (2) passing tensors with different shapes, (3) passing Python objects instead of tensors. For (1), please define your @tf.function outside of the loop. For (2), @tf.function has experimental_relax_shapes=True option that relaxes argument shapes that can avoid unnecessary retracing. For (3), please refer to https://www.tensorflow.org/tutorials/customization/performance#python_or_tensor_args and https://www.tensorflow.org/api_docs/python/tf/function for  more details.\n",
      "WARNING:tensorflow:6 out of the last 11 calls to <function Model.make_predict_function.<locals>.predict_function at 0x7f942d3d8b90> triggered tf.function retracing. Tracing is expensive and the excessive number of tracings could be due to (1) creating @tf.function repeatedly in a loop, (2) passing tensors with different shapes, (3) passing Python objects instead of tensors. For (1), please define your @tf.function outside of the loop. For (2), @tf.function has experimental_relax_shapes=True option that relaxes argument shapes that can avoid unnecessary retracing. For (3), please refer to https://www.tensorflow.org/tutorials/customization/performance#python_or_tensor_args and https://www.tensorflow.org/api_docs/python/tf/function for  more details.\n"
     ]
    }
   ],
   "source": [
    "for person_name in os.listdir(people_dir):\n",
    "    person_dir = os.path.join(people_dir, person_name)\n",
    "    encodes = []\n",
    "    for img_name in os.listdir(person_dir):\n",
    "        img_path = os.path.join(person_dir, img_name)\n",
    "        img = cv2.imread(img_path)\n",
    "        img_rgb = cv2.cvtColor(img, cv2.COLOR_BGR2RGB)\n",
    "        results = face_detector.detect_faces(img_rgb)\n",
    "        if results:\n",
    "            res = max(results, key=lambda b: b['box'][2] * b['box'][3])\n",
    "            face, _, _ = get_face(img_rgb, res['box'])\n",
    "            \n",
    "            face = normalize(face)\n",
    "            face = cv2.resize(face, required_size)\n",
    "            encode = face_encoder.predict(np.expand_dims(face, axis=0))[0]\n",
    "            encodes.append(encode)\n",
    "    if encodes:\n",
    "        encode = np.sum(encodes, axis=0)\n",
    "        encode = l2_normalizer.transform(np.expand_dims(encode, axis=0))[0]\n",
    "        encoding_dict[person_name] = encode"
   ]
  },
  {
   "cell_type": "code",
   "execution_count": 24,
   "metadata": {
    "colab": {
     "base_uri": "https://localhost:8080/"
    },
    "id": "9c9eJbACvZnf",
    "outputId": "889d4130-766b-46d8-ffd9-79f1abc1c1aa"
   },
   "outputs": [
    {
     "name": "stdout",
     "output_type": "stream",
     "text": [
      "Dr.lahouti (128,)\n"
     ]
    }
   ],
   "source": [
    "for key, val in encoding_dict.items():\n",
    "    print(key, val.shape)"
   ]
  },
  {
   "cell_type": "code",
   "execution_count": 25,
   "metadata": {
    "id": "5h3n5tyYvaDF"
   },
   "outputs": [],
   "source": [
    "save_pickle(encodings_path, encoding_dict)\n"
   ]
  },
  {
   "cell_type": "code",
   "execution_count": null,
   "metadata": {},
   "outputs": [],
   "source": [
    "img_rgb = cv2.cvtColor(img, cv2.COLOR_BGR2RGB)\n",
    "results = face_detector.detect_faces(img_rgb)\n",
    "for res in results:\n",
    "    face, pt_1, pt_2 = get_face(img_rgb, res['box'])\n",
    "    encode = get_encode(face_encoder, face, required_size)\n",
    "    encode = l2_normalizer.transform(np.expand_dims(encode, axis=0))[0]\n",
    "    \n",
    "    name = 'unknown'\n",
    "    distance = float(\"inf\")\n",
    "    \n",
    "    imgcp = img.copy()\n",
    "\n",
    "    for db_name, db_encode in encoding_dict.items():\n",
    "        dist = cosine(db_encode, encode)\n",
    "        if dist < recognition_t and dist < distance:\n",
    "            name = db_name\n",
    "            distance = dist\n",
    "    if name == 'unknown':\n",
    "        cv2.rectangle(imgcp, pt_1, pt_2, (0,0, 255),2)\n",
    "        cv2.putText(imgcp,name, pt_1,cv2.FONT_HERSHEY_PLAIN, 1, (0,0,255), 1)\n",
    "    else:\n",
    "        cv2.rectangle(imgcp, pt_1, pt_2, (0, 255, 0),2)\n",
    "        cv2.putText(imgcp,name + f\"__{distance:.2f}\", pt_1 ,cv2.FONT_HERSHEY_PLAIN, 1, (0,255,0), 1)\n",
    "\n",
    "    plt_show(imgcp)"
   ]
  },
  {
   "cell_type": "code",
   "execution_count": null,
   "metadata": {
    "id": "7R5L5LolwHNs"
   },
   "outputs": [],
   "source": [
    "plt_show(img)\n",
    "#cv2.imwrite(test_res_path,img)"
   ]
  },
  {
   "cell_type": "code",
   "execution_count": null,
   "metadata": {
    "id": "9x9-Zfqc01fN"
   },
   "outputs": [],
   "source": []
  }
 ],
 "metadata": {
  "colab": {
   "collapsed_sections": [],
   "name": "Untitled7.ipynb",
   "provenance": []
  },
  "kernelspec": {
   "display_name": "Python 3",
   "language": "python",
   "name": "python3"
  },
  "language_info": {
   "codemirror_mode": {
    "name": "ipython",
    "version": 3
   },
   "file_extension": ".py",
   "mimetype": "text/x-python",
   "name": "python",
   "nbconvert_exporter": "python",
   "pygments_lexer": "ipython3",
   "version": "3.7.3"
  }
 },
 "nbformat": 4,
 "nbformat_minor": 1
}
